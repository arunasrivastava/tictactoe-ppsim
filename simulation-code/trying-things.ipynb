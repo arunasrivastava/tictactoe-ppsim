{
 "cells": [
  {
   "cell_type": "code",
   "execution_count": null,
   "metadata": {},
   "outputs": [],
   "source": [
    "from ppsim import species, Simulation, Specie\n",
    "import numpy as np\n",
    "from matplotlib import pyplot as plt"
   ]
  },
  {
   "cell_type": "code",
   "execution_count": null,
   "metadata": {},
   "outputs": [],
   "source": [
    "triplets = [[0, 1, 2], [3, 4, 5], [6, 7, 8],\n",
    "            [0, 3, 6], [1, 4, 7], [2, 5, 8],\n",
    "            [0, 4, 8], [2, 4, 6]] # winning combinations"
   ]
  },
  {
   "cell_type": "code",
   "execution_count": null,
   "metadata": {},
   "outputs": [],
   "source": [
    "def gen_string(prefix: str, n: int) -> str:\n",
    "    to_return = \"\"\n",
    "    for i in range(n):\n",
    "        to_return += prefix + str(i) + \" \"\n",
    "    return to_return[:-1]"
   ]
  },
  {
   "cell_type": "code",
   "execution_count": null,
   "metadata": {},
   "outputs": [],
   "source": [
    "def board(sim: Simulation) -> str:\n",
    "    # return board state\n",
    "    states = np.zeros((3,3), dtype=str)\n",
    "    for i in range(9):\n",
    "        if Specie(name=f'o{i}') in sim.config_dict.keys():\n",
    "            states[i // 3, i % 3] = 'o'\n",
    "        elif Specie(name=f'x{i}') in sim.config_dict.keys():\n",
    "            states[i // 3, i % 3] = 'x'\n",
    "        else:\n",
    "            states[i // 3, i % 3] = '_'\n",
    "    return states"
   ]
  },
  {
   "cell_type": "code",
   "execution_count": null,
   "metadata": {},
   "outputs": [],
   "source": [
    "def game_state(sim: Simulation) -> str:\n",
    "    # return game state\n",
    "    if Specie(name='win') in sim.config_dict.keys():\n",
    "        return 'crn wins'\n",
    "    elif Specie(name='draw') in sim.config_dict.keys():\n",
    "        return 'draw'\n",
    "    elif Specie(name='lose') in sim.config_dict.keys():\n",
    "        return 'crn loses'\n",
    "    else:\n",
    "        return 'playing'"
   ]
  },
  {
   "cell_type": "code",
   "execution_count": 170,
   "metadata": {},
   "outputs": [],
   "source": [
    "c, h, w = species(\"c h w\") # set up move markers (c, h), waste molecule (w)\n",
    "win, lose, draw = species(\"win lose draw\") # set up game result markers\n",
    "checkc, checkh, check_fuel = species(\"checkc checkh check_fuel\") # checking for stopping condition, resuming game\n",
    "continue_gameh, continue_gamec, converter = species(\"continue_gameh continue_gamec converter\") # continue game\n",
    "# toggle clean up on, clean up off\n",
    "cuon, cuoff = species(\"cuon cuoff\")\n",
    "# option, try squares (this computes probabilities)\n",
    "opt = species(gen_string(\"opt\", 9))\n",
    "t = species(gen_string(\"t\", 9))\n",
    "# squares indicators - must be only one of these each\n",
    "b = species(gen_string(\"b\", 9))\n",
    "x = species(gen_string(\"x\", 9))\n",
    "o = species(gen_string(\"o\", 9))\n",
    "# square interactors - can be many of these but only use in non-changing phases\n",
    "b_temp = species(gen_string(\"b_temp\", 9))\n",
    "x_temp = species(gen_string(\"x_temp\", 9))\n",
    "o_temp = species(gen_string(\"o_temp\", 9))\n",
    "# intermediates for computation\n",
    "filled = species(gen_string(\"filled\", 8))\n",
    "inter_triplet = species(gen_string(\"inter_triplet\", 24))\n",
    "inter_sum = species(gen_string(\"inter_sum\", 8))\n",
    "continue_triplet = species(gen_string(\"continue_triplet\", 8))\n",
    "# track move that was made\n",
    "m = species(gen_string(\"m\", 9))\n",
    "# inject a move: human's turn, produces mh to make human move\n",
    "inject = species(gen_string(\"i\", 9))\n",
    "mv = species(gen_string(\"mv\", 9)) # checks if move is valid\n",
    "mh = species(gen_string(\"mh\", 9)) # makes move\n",
    "mm = species(gen_string(\"mx\", 9)) # move has been made"
   ]
  },
  {
   "cell_type": "code",
   "execution_count": 174,
   "metadata": {},
   "outputs": [],
   "source": [
    "rules = []\n",
    "# square molecule reactions\n",
    "for i in range(9):\n",
    "    # generate random move from blank squares: c + b[i] -> c + b[i] + t[i]\n",
    "    rules.append(w + c >> c + opt[i])\n",
    "    rules.append(opt[i] + b[i] >> t[i] + b[i])\n",
    "\n",
    "    # make_move: requires a blank square and the move marker -> fills square and records move\n",
    "    rules.append(t[i] + c >> o[i] + m[i])\n",
    "    # move recorded -> decompose blank, generate human's turn\n",
    "    rules.append(m[i] + b[i] >> w + checkc)\n",
    "\n",
    "    # if human's turn, do the same thing, generate checking phase\n",
    "    rules.append(inject[i] + b[i] >> mv[i] + b[i]) # move is valid\n",
    "    rules.append(mv[i] + h >> mh[i] + h) # move is valid and human's turn\n",
    "    rules.append(mh[i] + b[i] >> mm[i] + x[i]) # make move\n",
    "    rules.append(mm[i] + h >> w + checkh) # end human's turn, move to checking phase\n",
    "\n",
    "    # clean up step\n",
    "    rules.append(cuon + mh[i] >> cuon + w)\n",
    "    rules.append(cuon + mm[i] >> cuon + w)\n",
    "    rules.append(cuon + mv[i] >> cuon + w)\n",
    "    rules.append(cuon + opt[i] >> cuon + w)\n",
    "    rules.append(cuon + t[i] >> cuon + w)\n",
    "    rules.append(cuon + b_temp[i] >> cuon + w)\n",
    "    rules.append(cuon + x_temp[i] >> cuon + w)\n",
    "    rules.append(cuon + o_temp[i] >> cuon + w)\n",
    "\n",
    "    # generate temporaries - for checking but also all the time\n",
    "    rules.append(check_fuel + x[i] >> x[i] + x_temp[i])\n",
    "    rules.append(check_fuel + o[i] >> o[i] + o_temp[i])\n",
    "    rules.append(check_fuel + b[i] >> b[i] + b_temp[i])\n",
    "\n",
    "# control molecule clean up\n",
    "rules.append(cuon + check_fuel >> cuon + w) # clean up check fuel\n",
    "rules.append(cuon + continue_gameh >> cuon + w) # clean up continue game\n",
    "rules.append(cuon + continue_gamec >> cuon + w) # clean up continue game\n",
    "rules.append(cuon + converter >> cuon + w) # clean up converter\n",
    "\n",
    "# control molecule reactions\n",
    "rules.append(cuoff + cuon >> w + w) # toggle off clean up\n",
    "rules.append(continue_gameh + converter >> continue_gamec + w) # continue game after computer's turn\n",
    "rules.append(checkh + continue_gameh >> c + w) # toggle off checking phase after human's turn\n",
    "rules.append(checkc + continue_gamec >> h + w) # toggle off checking phase after computer's turn\n",
    "\n",
    "# triplet reactions - checking phase\n",
    "for i, triplet in enumerate(triplets):\n",
    "    # generate win if all three are O: o0 + o1 + o2 -> win\n",
    "    rules.append(o_temp[triplet[0]] + o_temp[triplet[1]] >> inter_triplet[i] + w)\n",
    "    rules.append(inter_triplet[i] + o_temp[triplet[2]] >> win + w)\n",
    "    # generate lose if all three are X: x0 + x1 + x2 -> lose\n",
    "    rules.append(x_temp[triplet[0]] + x_temp[triplet[1]] >> inter_triplet[i+8] + w)\n",
    "    rules.append(inter_triplet[i+8] + x_temp[triplet[2]] >> lose + w)\n",
    "    # generate filled[i] if all three are filled: b0 + b1 + b2 -> filled[i]\n",
    "    rules.append(b_temp[triplet[0]] + b_temp[triplet[1]] >> inter_triplet[i+16] + w)\n",
    "    rules.append(inter_triplet[i+16] + b_temp[triplet[2]] >> filled[i] + w)\n",
    "    # generate continue_triplet[i] if none of the above (this is the hard one)\n",
    "    rules.append(b_temp[triplet[0]] >> continue_triplet[i])\n",
    "    rules.append(b_temp[triplet[1]] >> continue_triplet[i])\n",
    "    rules.append(b_temp[triplet[2]] >> continue_triplet[i]) # if any blanks, continue\n",
    "    rules.append(x_temp[triplet[0]] + o_temp[triplet[1]] >> continue_triplet[i] + w) # xo_\n",
    "    rules.append(o_temp[triplet[0]] + x_temp[triplet[1]] >> continue_triplet[i] + w) # ox_\n",
    "    rules.append(x_temp[triplet[1]] + o_temp[triplet[2]] >> continue_triplet[i] + w) # _xo\n",
    "    rules.append(o_temp[triplet[1]] + x_temp[triplet[2]] >> continue_triplet[i] + w) # _ox\n",
    "    rules.append(x_temp[triplet[0]] + o_temp[triplet[2]] >> continue_triplet[i] + w) # x_o\n",
    "    rules.append(o_temp[triplet[0]] + x_temp[triplet[2]] >> continue_triplet[i] + w) # o_x\n",
    "\n",
    "    # clean up triplets\n",
    "    rules.append(cuon + inter_triplet[i] >> cuon + w)\n",
    "    rules.append(cuon + inter_triplet[i+8] >> cuon + w)\n",
    "    rules.append(cuon + inter_triplet[i+16] >> cuon + w)\n",
    "    rules.append(cuon + continue_triplet[i] >> cuon + w)\n",
    "    rules.append(cuon + inter_sum[i] >> cuon + w)\n",
    "\n",
    "# summing triplet results: draw\n",
    "rules.append(filled[0] + filled[1] >> inter_sum[0] + w)\n",
    "rules.append(inter_sum[0] + filled[2] >> draw + w)\n",
    "rules.append(filled[3] + filled[4] >> inter_sum[1] + w)\n",
    "rules.append(inter_sum[1] + filled[5] >> draw + w)\n",
    "\n",
    "# summing triplet results: continue only if every triplet continues\n",
    "rules.append(continue_triplet[0] + continue_triplet[1] >> inter_sum[2] + w)\n",
    "rules.append(continue_triplet[2] + continue_triplet[3] >> inter_sum[3] + w)\n",
    "rules.append(continue_triplet[4] + continue_triplet[5] >> inter_sum[4] + w)\n",
    "rules.append(continue_triplet[6] + continue_triplet[7] >> inter_sum[5] + w) # level one\n",
    "rules.append(inter_sum[2] + inter_sum[3] >> inter_sum[6] + w)\n",
    "rules.append(inter_sum[4] + inter_sum[5] >> inter_sum[7] + w) # level two\n",
    "rules.append(inter_sum[6] + inter_sum[7] >> continue_gameh + w) # level three\n"
   ]
  },
  {
   "cell_type": "code",
   "execution_count": 164,
   "metadata": {},
   "outputs": [],
   "source": [
    "init_config = {}\n",
    "init_config[w] = 100 # surplus waste - I think this actually ends up affecting the probabilities\n",
    "init_config[c] = 0 # crn's move\n",
    "init_config[h] = 1 # not human's move\n",
    "init_config[cuon] = 0 # add to clean up\n",
    "init_config[cuoff] = 0 # add to stop cleaning up\n",
    "move_probabilities = [0, 0, 0, 0, 0, 0, 0, 0, 0] # t values\n",
    "for i in range(9):\n",
    "    init_config[b[i]] = 1 # all squares set to blank\n",
    "    init_config[x[i]] = 0\n",
    "    init_config[o[i]] = 0\n",
    "    init_config[m[i]] = 0\n",
    "    init_config[mh[i]] = 0\n",
    "    init_config[inject[i]] = 0\n",
    "    init_config[opt[i]] = 0\n",
    "    init_config[t[i]] = move_probabilities[i]"
   ]
  },
  {
   "cell_type": "code",
   "execution_count": 172,
   "metadata": {},
   "outputs": [],
   "source": [
    "# -1 for cuon, -2 for cuoff, -3 inject check fuel, -4 inject converter, 0 through 8 for corresponding move\n",
    "def injection(n: int, init_config: dict) -> dict:\n",
    "    if n == -1:\n",
    "        init_config[cuon] = 1\n",
    "    elif n == -2:\n",
    "        init_config[cuoff] = 1\n",
    "    elif n == -3:\n",
    "        init_config[check_fuel] = 400\n",
    "    elif n == -4:\n",
    "        init_config[converter] = 1\n",
    "    else:\n",
    "        init_config[inject[n]] = 1\n",
    "    return init_config"
   ]
  },
  {
   "cell_type": "code",
   "execution_count": 177,
   "metadata": {},
   "outputs": [],
   "source": [
    "def play_turn(n: int, config: dict) -> Simulation:\n",
    "    sim = Simulation(injection(-1, config), rules) # clean up on\n",
    "    sim.run()\n",
    "    sim = Simulation(injection(-2, sim.config_dict), rules) # clean up off\n",
    "    sim.run()\n",
    "    sim = Simulation(injection(n, sim.config_dict), rules) # inject human move\n",
    "    sim.run()\n",
    "    sim = Simulation(injection(-3, sim.config_dict), rules) # inject fuel for checking human move\n",
    "    sim.run()\n",
    "    print(board(sim))\n",
    "    sim = Simulation(injection(-1, sim.config_dict), rules) # clean up on\n",
    "    sim.run()\n",
    "    sim = Simulation(injection(-2, sim.config_dict), rules) # clean up off\n",
    "    sim.run()\n",
    "    sim = Simulation(injection(-3, sim.config_dict), rules) # inject fuel for checking crn move\n",
    "    sim.run()\n",
    "    sim = Simulation(injection(-4, sim.config_dict), rules) # inject converter to advance game\n",
    "    sim.run()\n",
    "    print(game_state(sim))\n",
    "    return sim"
   ]
  },
  {
   "cell_type": "code",
   "execution_count": 186,
   "metadata": {},
   "outputs": [
    {
     "name": "stderr",
     "output_type": "stream",
     "text": [
      "                                            \r"
     ]
    },
    {
     "name": "stdout",
     "output_type": "stream",
     "text": [
      "[['_' 'o' '_']\n",
      " ['_' 'x' '_']\n",
      " ['_' '_' '_']]\n"
     ]
    },
    {
     "name": "stderr",
     "output_type": "stream",
     "text": [
      "                                            "
     ]
    },
    {
     "name": "stdout",
     "output_type": "stream",
     "text": [
      "playing\n"
     ]
    },
    {
     "name": "stderr",
     "output_type": "stream",
     "text": [
      "\r"
     ]
    }
   ],
   "source": [
    "# first move\n",
    "sim = play_turn(4, init_config)"
   ]
  },
  {
   "cell_type": "code",
   "execution_count": 190,
   "metadata": {},
   "outputs": [
    {
     "name": "stderr",
     "output_type": "stream",
     "text": [
      "                                            \r"
     ]
    },
    {
     "name": "stdout",
     "output_type": "stream",
     "text": [
      "[['o' 'o' 'o']\n",
      " ['_' 'x' 'x']\n",
      " ['o' 'x' 'x']]\n"
     ]
    },
    {
     "name": "stderr",
     "output_type": "stream",
     "text": [
      "                                            "
     ]
    },
    {
     "name": "stdout",
     "output_type": "stream",
     "text": [
      "crn wins\n"
     ]
    },
    {
     "name": "stderr",
     "output_type": "stream",
     "text": [
      "\r"
     ]
    }
   ],
   "source": [
    "# next moves\n",
    "sim = play_turn(3, sim.config_dict)"
   ]
  },
  {
   "cell_type": "code",
   "execution_count": null,
   "metadata": {},
   "outputs": [],
   "source": [
    "# plot results\n",
    "sim.history[['c','h','w']].plot()\n",
    "plt.title(\"play or don't play\")\n",
    "plt.xlim(0, sim.times[-1])\n",
    "plt.show()"
   ]
  }
 ],
 "metadata": {
  "kernelspec": {
   "display_name": "Python 3",
   "language": "python",
   "name": "python3"
  },
  "language_info": {
   "codemirror_mode": {
    "name": "ipython",
    "version": 3
   },
   "file_extension": ".py",
   "mimetype": "text/x-python",
   "name": "python",
   "nbconvert_exporter": "python",
   "pygments_lexer": "ipython3",
   "version": "3.9.6"
  }
 },
 "nbformat": 4,
 "nbformat_minor": 2
}
