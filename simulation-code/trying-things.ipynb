{
 "cells": [
  {
   "cell_type": "code",
   "execution_count": 17,
   "metadata": {},
   "outputs": [],
   "source": [
    "from ppsim import species, Simulation, Specie\n",
    "import numpy as np\n",
    "from matplotlib import pyplot as plt"
   ]
  },
  {
   "cell_type": "code",
   "execution_count": 25,
   "metadata": {},
   "outputs": [],
   "source": [
    "def gen_string(prefix: str, n: int) -> str:\n",
    "    to_return = \"\"\n",
    "    for i in range(n):\n",
    "        to_return += prefix + str(i) + \" \"\n",
    "    return to_return[:-1]"
   ]
  },
  {
   "cell_type": "code",
   "execution_count": 180,
   "metadata": {},
   "outputs": [],
   "source": [
    "def board(sim: Simulation) -> str:\n",
    "    # return board state\n",
    "    states = np.zeros((3,3), dtype=str)\n",
    "    for i in range(9):\n",
    "        if Specie(name=f'o{i}') in sim.config_dict.keys():\n",
    "            states[i // 3, i % 3] = 'o'\n",
    "        elif Specie(name=f'x{i}') in sim.config_dict.keys():\n",
    "            states[i // 3, i % 3] = 'x'\n",
    "        else:\n",
    "            states[i // 3, i % 3] = '_'\n",
    "    return states"
   ]
  },
  {
   "cell_type": "code",
   "execution_count": 144,
   "metadata": {},
   "outputs": [],
   "source": [
    "# set up move marker (c, h), waste molecule (w)\n",
    "c, h, w = species(\"c h w\")\n",
    "# toggle clean up on, clean up off\n",
    "cuon, cuoff = species(\"cuon cuoff\")\n",
    "# blank squares\n",
    "b = species(gen_string(\"b\", 9))\n",
    "# option, try squares (this computes probabilities)\n",
    "opt = species(gen_string(\"opt\", 9))\n",
    "t = species(gen_string(\"t\", 9))\n",
    "# filled squares\n",
    "x = species(gen_string(\"x\", 9))\n",
    "o = species(gen_string(\"o\", 9))\n",
    "# track move that was made\n",
    "m = species(gen_string(\"m\", 9))\n",
    "# inject a move: human's turn, produces mh to make human move\n",
    "inject = species(gen_string(\"i\", 9))\n",
    "mh = species(gen_string(\"mh\", 9))"
   ]
  },
  {
   "cell_type": "code",
   "execution_count": 226,
   "metadata": {},
   "outputs": [],
   "source": [
    "rules = []\n",
    "# set up rules\n",
    "for i in range(9):\n",
    "    # generate random move from blank squares - this is the logic we want to start changing\n",
    "    rules.append(w + c >> c + opt[i])\n",
    "    rules.append(opt[i] + b[i] >> t[i] + b[i])\n",
    "\n",
    "    # make_move: requires a blank square and the move marker -> fills square and records move\n",
    "    rules.append(t[i] + c >> o[i] + m[i])\n",
    "    # move recorded -> decompose blank, generate human's turn\n",
    "    rules.append(m[i] + b[i] >> w + h)\n",
    "\n",
    "    # if human's turn, do the same thing:\n",
    "    rules.append(inject[i] + h >> x[i] + mh[i])\n",
    "    rules.append(mh[i] + b[i] >> w + c)\n",
    "\n",
    "    # clean up step, and toggle off of clean up\n",
    "    rules.append(cuon + opt[i] >> cuon + w)\n",
    "    rules.append(cuon + t[i] >> cuon + w)\n",
    "    rules.append(cuoff + cuon >> w + w)"
   ]
  },
  {
   "cell_type": "code",
   "execution_count": 254,
   "metadata": {},
   "outputs": [],
   "source": [
    "init_config = {}\n",
    "init_config[w] = 100 # surplus waste - I think this actually ends up affecting the probabilities\n",
    "init_config[c] = 0 # crn's move\n",
    "init_config[h] = 1 # not human's move\n",
    "init_config[cuon] = 0 # add to clean up\n",
    "init_config[cuoff] = 0 # add to stop cleaning up\n",
    "move_probabilities = [0, 0, 0, 0, 0, 0, 0, 0, 0] # t values\n",
    "for i in range(9):\n",
    "    init_config[b[i]] = 1 # all squares set to blank\n",
    "    init_config[x[i]] = 0\n",
    "    init_config[o[i]] = 0\n",
    "    init_config[m[i]] = 0\n",
    "    init_config[mh[i]] = 0\n",
    "    init_config[inject[i]] = 0\n",
    "    init_config[opt[i]] = 0\n",
    "    init_config[t[i]] = move_probabilities[i]"
   ]
  },
  {
   "cell_type": "code",
   "execution_count": 212,
   "metadata": {},
   "outputs": [],
   "source": [
    "# -1 for cuon, -2 for cuoff, 0 through 8 for corresponding move\n",
    "def injection(n: int, init_config: dict) -> dict:\n",
    "    if n == -1:\n",
    "        init_config[cuon] = 1\n",
    "    elif n == -2:\n",
    "        init_config[cuoff] = 1\n",
    "    else:\n",
    "        init_config[inject[n]] = 1\n",
    "    return init_config"
   ]
  },
  {
   "cell_type": "code",
   "execution_count": 227,
   "metadata": {},
   "outputs": [],
   "source": [
    "def play_turn(n: int) -> Simulation:\n",
    "    sim = Simulation(injection(-1, init_config), rules)\n",
    "    sim.run()\n",
    "    print(board(sim))\n",
    "    sim = Simulation(injection(-2, sim.config_dict), rules)\n",
    "    sim.run()\n",
    "    print(board(sim))\n",
    "    sim = Simulation(injection(n, sim.config_dict), rules)\n",
    "    sim.run()\n",
    "    print(board(sim))\n",
    "    return sim"
   ]
  },
  {
   "cell_type": "code",
   "execution_count": 261,
   "metadata": {},
   "outputs": [
    {
     "name": "stderr",
     "output_type": "stream",
     "text": [
      "                                            \r"
     ]
    },
    {
     "name": "stdout",
     "output_type": "stream",
     "text": [
      "[['_' '_' '_']\n",
      " ['_' '_' '_']\n",
      " ['_' '_' '_']]\n"
     ]
    },
    {
     "name": "stderr",
     "output_type": "stream",
     "text": [
      "                                            \r"
     ]
    },
    {
     "name": "stdout",
     "output_type": "stream",
     "text": [
      "[['_' '_' '_']\n",
      " ['_' '_' '_']\n",
      " ['_' '_' '_']]\n"
     ]
    },
    {
     "name": "stderr",
     "output_type": "stream",
     "text": [
      "                                            "
     ]
    },
    {
     "name": "stdout",
     "output_type": "stream",
     "text": [
      "[['_' '_' '_']\n",
      " ['_' 'x' '_']\n",
      " ['_' 'o' '_']]\n"
     ]
    },
    {
     "name": "stderr",
     "output_type": "stream",
     "text": [
      "\r"
     ]
    }
   ],
   "source": [
    "sim = play_turn(4) # n determines the move human plays (as of now, player X)"
   ]
  },
  {
   "cell_type": "code",
   "execution_count": 262,
   "metadata": {},
   "outputs": [
    {
     "data": {
      "image/png": "[encoded data removed]",
      "text/plain": [
       "<Figure size 640x480 with 1 Axes>"
      ]
     },
     "metadata": {},
     "output_type": "display_data"
    }
   ],
   "source": [
    "# plot results\n",
    "sim.history[['c','h','w']].plot()\n",
    "plt.title(\"play or don't play\")\n",
    "plt.xlim(0, sim.times[-1])\n",
    "plt.show()"
   ]
  }
 ],
 "metadata": {
  "kernelspec": {
   "display_name": "Python 3",
   "language": "python",
   "name": "python3"
  },
  "language_info": {
   "codemirror_mode": {
    "name": "ipython",
    "version": 3
   },
   "file_extension": ".py",
   "mimetype": "text/x-python",
   "name": "python",
   "nbconvert_exporter": "python",
   "pygments_lexer": "ipython3",
   "version": "3.9.6"
  }
 },
 "nbformat": 4,
 "nbformat_minor": 2
}
