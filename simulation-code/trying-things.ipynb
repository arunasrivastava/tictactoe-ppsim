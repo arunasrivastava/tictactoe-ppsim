{
 "cells": [
  {
   "cell_type": "code",
   "execution_count": 337,
   "metadata": {},
   "outputs": [],
   "source": [
    "from ppsim import species, Simulation, Specie\n",
    "import numpy as np\n",
    "from matplotlib import pyplot as plt"
   ]
  },
  {
   "cell_type": "code",
   "execution_count": 338,
   "metadata": {},
   "outputs": [],
   "source": [
    "triplets = [[0, 1, 2], [3, 4, 5], [6, 7, 8],\n",
    "            [0, 3, 6], [1, 4, 7], [2, 5, 8],\n",
    "            [0, 4, 8], [2, 4, 6]] # winning combinations"
   ]
  },
  {
   "cell_type": "code",
   "execution_count": 339,
   "metadata": {},
   "outputs": [],
   "source": [
    "def gen_string(prefix: str, n: int) -> str:\n",
    "    to_return = \"\"\n",
    "    for i in range(n):\n",
    "        to_return += prefix + str(i) + \" \"\n",
    "    return to_return[:-1]"
   ]
  },
  {
   "cell_type": "code",
   "execution_count": 340,
   "metadata": {},
   "outputs": [],
   "source": [
    "def board(sim: Simulation) -> str:\n",
    "    # return board state\n",
    "    states = np.zeros((3,3), dtype=str)\n",
    "    for i in range(9):\n",
    "        if Specie(name=f'o{i}') in sim.config_dict.keys():\n",
    "            states[i // 3, i % 3] = 'o'\n",
    "        elif Specie(name=f'x{i}') in sim.config_dict.keys():\n",
    "            states[i // 3, i % 3] = 'x'\n",
    "        else:\n",
    "            states[i // 3, i % 3] = '_'\n",
    "    return states"
   ]
  },
  {
   "cell_type": "code",
   "execution_count": 341,
   "metadata": {},
   "outputs": [],
   "source": [
    "def game_state(sim: Simulation) -> str:\n",
    "    # return game state\n",
    "    if Specie(name='win') in sim.config_dict.keys():\n",
    "        return 'crn wins'\n",
    "    elif Specie(name='draw') in sim.config_dict.keys():\n",
    "        return 'draw'\n",
    "    elif Specie(name='lose') in sim.config_dict.keys():\n",
    "        return 'crn loses'\n",
    "    else:\n",
    "        return 'playing'"
   ]
  },
  {
   "cell_type": "code",
   "execution_count": 342,
   "metadata": {},
   "outputs": [],
   "source": [
    "c, h, skip, w = species(\"c h skip w\") # set up move markers (c, h, skip), waste molecule (w)\n",
    "win, lose, draw = species(\"win lose draw\") # set up game result markers\n",
    "checkc, checkh = species(\"checkc checkh\") # checking for stopping condition, resuming game\n",
    "pre_checkc_fuel, pre_checkh_fuel, pre_comp_fuel = species(\"pre_checkc_fuel pre_checkh_fuel pre_comp_fuel\") # fuel for both pre-check phases\n",
    "checkc_fuel, checkh_fuel, comp_fuel = species(\"checkc_fuel checkh_fuel comp_fuel\") # fuel for both check phases\n",
    "continue_gameh, continue_gamec = species(\"continue_gameh continue_gamec\") # continue game\n",
    "# toggle clean up on, clean up off\n",
    "cuon, cuoff = species(\"cuon cuoff\")\n",
    "# computing probabilities\n",
    "p = species(gen_string(\"p\", 9))\n",
    "lp = species(gen_string(\"lp\", 9))\n",
    "hp = species(gen_string(\"hp\", 9))\n",
    "_p = species(gen_string(\"_p\", 9))\n",
    "# option, try squares (crn playing a move)\n",
    "opt = species(gen_string(\"opt\", 9))\n",
    "t = species(gen_string(\"t\", 9))\n",
    "# squares indicators - must be only one of these each\n",
    "b = species(gen_string(\"b\", 9))\n",
    "x = species(gen_string(\"x\", 9))\n",
    "o = species(gen_string(\"o\", 9))\n",
    "# square interactors - can be many of these for use in check-phases, probability computation\n",
    "b_temp_h = species(gen_string(\"b_temp_h\", 9))\n",
    "b_temp_c = species(gen_string(\"b_temp_c\", 9))\n",
    "b_temp_p = species(gen_string(\"b_temp_p\", 9))\n",
    "x_temp_h = species(gen_string(\"x_temp_h\", 9))\n",
    "x_temp_c = species(gen_string(\"x_temp_c\", 9))\n",
    "x_temp_p = species(gen_string(\"x_temp_p\", 9))\n",
    "o_temp_h = species(gen_string(\"o_temp_h\", 9))\n",
    "o_temp_c = species(gen_string(\"o_temp_c\", 9))\n",
    "o_temp_p = species(gen_string(\"o_temp_p\", 9))\n",
    "# intermediates for computation\n",
    "filled_h, filled_c = species(gen_string(\"filled_h\", 8)), species(gen_string(\"filled_c\", 8))\n",
    "inter_triplet_h, inter_triplet_c = species(gen_string(\"inter_triplet_h\", 24)), species(gen_string(\"inter_triplet_c\", 24))\n",
    "inter_sum_h, inter_sum_c = species(gen_string(\"inter_sum_h\", 8)), species(gen_string(\"inter_sum_c\", 8))\n",
    "continue_triplet_h, continue_triplet_c = species(gen_string(\"continue_triplet_h\", 8)), species(gen_string(\"continue_triplet_c\", 8))\n",
    "# track move that was made\n",
    "m = species(gen_string(\"m\", 9))\n",
    "# inject a move: human's turn, produces mh to make human move\n",
    "inject = species(gen_string(\"i\", 9))\n",
    "mv = species(gen_string(\"mv\", 9)) # checks if move is valid\n",
    "mh = species(gen_string(\"mh\", 9)) # makes move\n",
    "mm = species(gen_string(\"mx\", 9)) # move has been made"
   ]
  },
  {
   "cell_type": "code",
   "execution_count": 343,
   "metadata": {},
   "outputs": [],
   "source": [
    "def add_checkphase(rules: list, o_temp: list[Specie], x_temp: list[Specie], b_temp: list[Specie],\n",
    "                   inter_triplet: list[Specie], inter_sum: list[Specie],\n",
    "                   continue_triplet: list[Specie], filled: list[Specie],\n",
    "                   continue_game: Specie):\n",
    "    # triplet reactions - checking phase\n",
    "    for i, triplet in enumerate(triplets):\n",
    "        # generate win if all three are O: o0 + o1 + o2 -> win\n",
    "        rules.append(o_temp[triplet[0]] + o_temp[triplet[1]] >> inter_triplet[i] + w)\n",
    "        rules.append(inter_triplet[i] + o_temp[triplet[2]] >> win + w)\n",
    "        # generate lose if all three are X: x0 + x1 + x2 -> lose\n",
    "        rules.append(x_temp[triplet[0]] + x_temp[triplet[1]] >> inter_triplet[i+8] + w)\n",
    "        rules.append(inter_triplet[i+8] + x_temp[triplet[2]] >> lose + w)\n",
    "        # generate filled[i] if all three are filled: x/o1 + x/o2 + x/o3 -> filled[i]\n",
    "        rules.append(x_temp[triplet[0]] + o_temp[triplet[1]] >> inter_triplet[i+16] + w)\n",
    "        rules.append(o_temp[triplet[0]] + x_temp[triplet[1]] >> inter_triplet[i+16] + w)\n",
    "        rules.append(x_temp[triplet[0]] + x_temp[triplet[1]] >> inter_triplet[i+16] + w)\n",
    "        rules.append(o_temp[triplet[0]] + o_temp[triplet[1]] >> inter_triplet[i+16] + w)\n",
    "        rules.append(inter_triplet[i+16] + x_temp[triplet[2]] >> filled[i] + w)\n",
    "        rules.append(inter_triplet[i+16] + o_temp[triplet[2]] >> filled[i] + w)\n",
    "        # generate continue_triplet[i] if none of the above (this is the hard one)\n",
    "        rules.append(b_temp[triplet[0]] >> continue_triplet[i])\n",
    "        rules.append(b_temp[triplet[1]] >> continue_triplet[i])\n",
    "        rules.append(b_temp[triplet[2]] >> continue_triplet[i]) # if any blanks, continue\n",
    "        rules.append(x_temp[triplet[0]] + o_temp[triplet[1]] >> continue_triplet[i] + w) # xo_\n",
    "        rules.append(o_temp[triplet[0]] + x_temp[triplet[1]] >> continue_triplet[i] + w) # ox_\n",
    "        rules.append(x_temp[triplet[1]] + o_temp[triplet[2]] >> continue_triplet[i] + w) # _xo\n",
    "        rules.append(o_temp[triplet[1]] + x_temp[triplet[2]] >> continue_triplet[i] + w) # _ox\n",
    "        rules.append(x_temp[triplet[0]] + o_temp[triplet[2]] >> continue_triplet[i] + w) # x_o\n",
    "        rules.append(o_temp[triplet[0]] + x_temp[triplet[2]] >> continue_triplet[i] + w) # o_x\n",
    "\n",
    "        # clean up triplets\n",
    "        rules.append(cuon + inter_triplet[i] >> cuon + w)\n",
    "        rules.append(cuon + inter_triplet[i+8] >> cuon + w)\n",
    "        rules.append(cuon + inter_triplet[i+16] >> cuon + w)\n",
    "        rules.append(cuon + continue_triplet[i] >> cuon + w)\n",
    "        rules.append(cuon + inter_sum[i] >> cuon + w)\n",
    "\n",
    "    # summing triplet results: draw\n",
    "    rules.append(filled[0] + filled[1] >> inter_sum[0] + w)\n",
    "    rules.append(inter_sum[0] + filled[2] >> draw + w)\n",
    "    rules.append(filled[3] + filled[4] >> inter_sum[1] + w)\n",
    "    rules.append(inter_sum[1] + filled[5] >> draw + w)\n",
    "\n",
    "    # summing triplet results: continue only if every triplet continues\n",
    "    rules.append(continue_triplet[0] + continue_triplet[1] >> inter_sum[2] + w)\n",
    "    rules.append(continue_triplet[2] + continue_triplet[3] >> inter_sum[3] + w)\n",
    "    rules.append(continue_triplet[4] + continue_triplet[5] >> inter_sum[4] + w)\n",
    "    rules.append(continue_triplet[6] + continue_triplet[7] >> inter_sum[5] + w) # level one\n",
    "    rules.append(inter_sum[2] + inter_sum[3] >> inter_sum[6] + w)\n",
    "    rules.append(inter_sum[4] + inter_sum[5] >> inter_sum[7] + w) # level two\n",
    "    rules.append(inter_sum[6] + inter_sum[7] >> continue_game + w) # level three\n"
   ]
  },
  {
   "cell_type": "code",
   "execution_count": 344,
   "metadata": {},
   "outputs": [],
   "source": [
    "def add_probability(rules: list, o_temp: list[Specie], x_temp: list[Specie], b_temp: list[Specie],\n",
    "                    hp: list[Specie], p: list[Specie], lp: list[Specie], _p: list[Specie], w: Specie):\n",
    "    # if middle square is blank, hp\n",
    "    rules.append(b_temp[4] + w >> hp[4] + w)\n",
    "    # for each triplet[i], decide a probability based on the state of the other two squares.\n",
    "    for i, triplet in enumerate(triplets):\n",
    "        # for each square in the triplet\n",
    "        for j in range(3):\n",
    "            # if other two are blank, p\n",
    "            rules.append(b_temp[triplet[(j+1)%3]] + b_temp[triplet[(j+2)%3]] >> lp[triplet[j]] + w)\n",
    "            # if other two are X, hp\n",
    "            rules.append(x_temp[triplet[(j+1)%3]] + x_temp[triplet[(j+2)%3]] >> hp[triplet[j]] + w)\n",
    "            # if other two are O, very hp\n",
    "            rules.append(o_temp[triplet[(j+1)%3]] + o_temp[triplet[(j+2)%3]] >> hp[triplet[j]] + hp[triplet[j]])\n",
    "            # if one is O, one is X, lp\n",
    "            rules.append(x_temp[triplet[(j+1)%3]] + o_temp[triplet[(j+2)%3]] >> _p[triplet[j]] + w)\n",
    "            rules.append(o_temp[triplet[(j+1)%3]] + x_temp[triplet[(j+2)%3]] >> _p[triplet[j]] + w)\n",
    "            # if one blank, one X, p\n",
    "            rules.append(b_temp[triplet[(j+1)%3]] + x_temp[triplet[(j+2)%3]] >> p[triplet[j]] + w)\n",
    "            rules.append(x_temp[triplet[(j+1)%3]] + b_temp[triplet[(j+2)%3]] >> p[triplet[j]] + w)\n",
    "            # if one blank, one O, p\n",
    "            rules.append(b_temp[triplet[(j+1)%3]] + o_temp[triplet[(j+2)%3]] >> p[triplet[j]] + w)\n",
    "            rules.append(o_temp[triplet[(j+1)%3]] + b_temp[triplet[(j+2)%3]] >> p[triplet[j]] + w)\n"
   ]
  },
  {
   "cell_type": "code",
   "execution_count": 345,
   "metadata": {},
   "outputs": [],
   "source": [
    "rules = []\n",
    "# square molecule reactions\n",
    "for i in range(9):\n",
    "    # increased probability of hp moves, decreased probability of lp moves, no probability of _p moves\n",
    "    rules.append(_p[i] + p[i] >> w + w)\n",
    "    rules.append(lp[i] + lp[i] >> p[i] + w)\n",
    "    rules.append(hp[i] + w >> hp[i] + p[i])\n",
    "\n",
    "    # verification: p[i] + c + b[i] -> c + b[i] + t[i]\n",
    "    rules.append(p[i] + c >> c + opt[i])\n",
    "    rules.append(opt[i] + b[i] >> t[i] + b[i])\n",
    "\n",
    "    # make_move: requires a blank square and the move marker -> fills square and records move\n",
    "    rules.append(t[i] + c >> o[i] + m[i])\n",
    "    # move recorded -> decompose blank, generate human's turn\n",
    "    rules.append(m[i] + b[i] >> w + checkc)\n",
    "\n",
    "    # if human's turn, do the same thing, generate checking phase\n",
    "    rules.append(inject[i] + b[i] >> mv[i] + b[i]) # move is valid\n",
    "    rules.append(mv[i] + h >> mh[i] + h) # move is valid and human's turn\n",
    "    rules.append(mh[i] + b[i] >> mm[i] + x[i]) # make move\n",
    "    rules.append(mm[i] + h >> w + checkh) # end human's turn, move to checking phase\n",
    "    rules.append(skip + h >> w + checkh) # skip human's turn, move to checking phase\n",
    "\n",
    "    # clean up step\n",
    "    rules.append(cuon + mh[i] >> cuon + w)\n",
    "    rules.append(cuon + mm[i] >> cuon + w)\n",
    "    rules.append(cuon + mv[i] >> cuon + w)\n",
    "    rules.append(cuon + lp[i] >> cuon + w)\n",
    "    rules.append(cuon + hp[i] >> cuon + w)\n",
    "    rules.append(cuon + p[i] >> cuon + w)\n",
    "    rules.append(cuon + _p[i] >> cuon + w)\n",
    "    rules.append(cuon + opt[i] >> cuon + w)\n",
    "    rules.append(cuon + t[i] >> cuon + w)\n",
    "    rules.append(cuon + b_temp_h[i] >> cuon + w)\n",
    "    rules.append(cuon + b_temp_c[i] >> cuon + w)\n",
    "    rules.append(cuon + b_temp_p[i] >> cuon + w)\n",
    "    rules.append(cuon + x_temp_h[i] >> cuon + w)\n",
    "    rules.append(cuon + x_temp_c[i] >> cuon + w)\n",
    "    rules.append(cuon + x_temp_p[i] >> cuon + w)\n",
    "    rules.append(cuon + o_temp_h[i] >> cuon + w)\n",
    "    rules.append(cuon + o_temp_c[i] >> cuon + w)\n",
    "    rules.append(cuon + o_temp_p[i] >> cuon + w)\n",
    "\n",
    "    # generate temporaries - for checking but also all the time\n",
    "    rules.append(checkc_fuel + x[i] >> x[i] + x_temp_c[i])\n",
    "    rules.append(checkh_fuel + x[i] >> x[i] + x_temp_h[i])\n",
    "    rules.append(comp_fuel + x[i] >> x[i] + x_temp_p[i])\n",
    "    rules.append(checkc_fuel + o[i] >> o[i] + o_temp_c[i])\n",
    "    rules.append(checkh_fuel + o[i] >> o[i] + o_temp_h[i])\n",
    "    rules.append(comp_fuel + o[i] >> o[i] + o_temp_p[i])\n",
    "    rules.append(checkc_fuel + b[i] >> b[i] + b_temp_c[i])\n",
    "    rules.append(checkh_fuel + b[i] >> b[i] + b_temp_h[i])\n",
    "    rules.append(comp_fuel + b[i] >> b[i] + b_temp_p[i])\n",
    "\n",
    "# control molecule clean up\n",
    "rules.append(cuon + checkc_fuel >> cuon + w) # clean up check fuel\n",
    "rules.append(cuon + checkh_fuel >> cuon + w) # clean up check fuel\n",
    "rules.append(cuon + comp_fuel >> cuon + w) # clean up comp fuel\n",
    "rules.append(cuon + continue_gameh >> cuon + w) # clean up continue game\n",
    "rules.append(cuon + continue_gamec >> cuon + w) # clean up continue game\n",
    "\n",
    "# phase one: clean up off\n",
    "rules.append(cuoff + cuon >> h + w) # toggle off clean up\n",
    "# phase two: human plays move (h)\n",
    "# phase three: checking human move (checkh)\n",
    "rules.append(checkh + pre_checkh_fuel >> checkh + checkh_fuel) # create checkh_fuel for human checking\n",
    "rules.append(checkh + continue_gameh >> c + w) # toggle off checking phase\n",
    "# phase four: computer plays move (c)\n",
    "rules.append(c + pre_comp_fuel >> c + comp_fuel) # create comp_fuel for crn move\n",
    "# phase five: checking computer move (checkc)\n",
    "rules.append(checkc + pre_checkc_fuel >> checkc + checkc_fuel) # create checkc_fuel for crn checking\n",
    "rules.append(checkc + continue_gamec >> w + cuon) # toggle off checking phase, move to clean up\n",
    "\n",
    "# add checking phase\n",
    "add_checkphase(rules, o_temp_h, x_temp_h, b_temp_h,\n",
    "               inter_triplet_h, inter_sum_h,\n",
    "               continue_triplet_h, filled_h,\n",
    "               continue_gameh)\n",
    "add_checkphase(rules, o_temp_c, x_temp_c, b_temp_c,\n",
    "               inter_triplet_c, inter_sum_c,\n",
    "               continue_triplet_c, filled_c,\n",
    "               continue_gamec)\n",
    "# win/loss should override draw\n",
    "rules.append(draw + win >> win + w)\n",
    "rules.append(draw + lose >> lose + w)\n",
    "\n",
    "# add probability computation\n",
    "add_probability(rules, o_temp_p, x_temp_p, b_temp_p,\n",
    "                hp, p, lp, _p, w)"
   ]
  },
  {
   "cell_type": "code",
   "execution_count": 346,
   "metadata": {},
   "outputs": [],
   "source": [
    "def init_config():\n",
    "    init_config = {}\n",
    "    init_config[w] = 100 # surplus waste - I think this actually ends up affecting the probabilities\n",
    "    init_config[h] = 1 # human's move\n",
    "    for i in range(9):\n",
    "        init_config[b[i]] = 1 # all squares set to blank\n",
    "    return init_config"
   ]
  },
  {
   "cell_type": "code",
   "execution_count": 347,
   "metadata": {},
   "outputs": [],
   "source": [
    "# -2 for cuoff, 0 through 8 for corresponding move, -1 to inject skip\n",
    "def injection(n: int, config: dict) -> dict:\n",
    "    if n == -2:\n",
    "        config[cuoff] = 1\n",
    "    elif n == -1:\n",
    "        config[skip] = 1\n",
    "        config[w] = 100\n",
    "        config[pre_comp_fuel] = 400\n",
    "        config[pre_checkh_fuel] = 400\n",
    "        config[pre_checkc_fuel] = 400\n",
    "    else:\n",
    "        config[inject[n]] = 1\n",
    "        config[w] = 100\n",
    "        config[pre_comp_fuel] = 400\n",
    "        config[pre_checkh_fuel] = 400\n",
    "        config[pre_checkc_fuel] = 400\n",
    "    return config"
   ]
  },
  {
   "cell_type": "code",
   "execution_count": 348,
   "metadata": {},
   "outputs": [],
   "source": [
    "def play_turn(n: int, config: dict) -> Simulation:\n",
    "    sim = Simulation(injection(-2, config), rules) # clean up off\n",
    "    sim.run()\n",
    "    sim = Simulation(injection(n, sim.config_dict), rules) # inject human move\n",
    "    sim.run()\n",
    "    print(board(sim))\n",
    "    print(game_state(sim))\n",
    "    return sim\n",
    "# n indicates move, -1 if computer should go first\n",
    "def start_game(n: int, config: dict) -> Simulation:\n",
    "    sim = Simulation(injection(n, config), rules) # inject human move or skip\n",
    "    sim.run()\n",
    "    print(board(sim))\n",
    "    print(game_state(sim))\n",
    "    return sim"
   ]
  },
  {
   "cell_type": "code",
   "execution_count": 368,
   "metadata": {},
   "outputs": [
    {
     "name": "stderr",
     "output_type": "stream",
     "text": [
      "                                            "
     ]
    },
    {
     "name": "stdout",
     "output_type": "stream",
     "text": [
      "[['_' '_' '_']\n",
      " ['_' 'o' '_']\n",
      " ['_' '_' '_']]\n",
      "playing\n"
     ]
    },
    {
     "name": "stderr",
     "output_type": "stream",
     "text": [
      "\r"
     ]
    }
   ],
   "source": [
    "# first move: -1 to let crn go first, 0-8 to make a move\n",
    "sim = start_game(-1, init_config())"
   ]
  },
  {
   "cell_type": "code",
   "execution_count": 370,
   "metadata": {},
   "outputs": [],
   "source": [
    "temp = sim.config_dict"
   ]
  },
  {
   "cell_type": "code",
   "execution_count": 410,
   "metadata": {},
   "outputs": [
    {
     "name": "stderr",
     "output_type": "stream",
     "text": [
      "                                            "
     ]
    },
    {
     "name": "stdout",
     "output_type": "stream",
     "text": [
      "[['x' 'x' '_']\n",
      " ['o' 'o' 'o']\n",
      " ['_' '_' '_']]\n",
      "crn wins\n"
     ]
    },
    {
     "name": "stderr",
     "output_type": "stream",
     "text": [
      "\r"
     ]
    }
   ],
   "source": [
    "# next moves: 0-8 to make a move\n",
    "sim = play_turn(1, temp)"
   ]
  },
  {
   "cell_type": "code",
   "execution_count": 221,
   "metadata": {},
   "outputs": [
    {
     "name": "stdout",
     "output_type": "stream",
     "text": [
      "{Specie(name='checkh'): 1, Specie(name='continue_triplet_h0'): 3, Specie(name='continue_triplet_h2'): 7, Specie(name='continue_triplet_h4'): 10, Specie(name='continue_triplet_h7'): 11, Specie(name='inter_sum_h2'): 12, Specie(name='inter_sum_h4'): 15, Specie(name='inter_sum_h6'): 16, Specie(name='inter_triplet_h2'): 13, Specie(name='inter_triplet_h9'): 6, Specie(name='inter_triplet_h11'): 13, Specie(name='inter_triplet_h14'): 2, Specie(name='inter_triplet_h15'): 5, Specie(name='lose'): 7, Specie(name='o1'): 1, Specie(name='o5'): 1, Specie(name='o6'): 1, Specie(name='o7'): 1, Specie(name='o_temp_h7'): 1, Specie(name='pre_checkc_fuel'): 400, Specie(name='w'): 2224, Specie(name='x0'): 1, Specie(name='x2'): 1, Specie(name='x3'): 1, Specie(name='x4'): 1, Specie(name='x8'): 1, Specie(name='x_temp_h0'): 2}\n"
     ]
    },
    {
     "data": {
      "image/png": "[encoded data removed]",
      "text/plain": [
       "<Figure size 640x480 with 1 Axes>"
      ]
     },
     "metadata": {},
     "output_type": "display_data"
    }
   ],
   "source": [
    "# plot results\n",
    "sim.history[['pre_checkh_fuel','pre_checkc_fuel','w', 'checkc_fuel', 'checkh_fuel']].plot()\n",
    "plt.title(\"play or don't play\")\n",
    "plt.xlim(0, sim.times[-1])\n",
    "plt.show()"
   ]
  },
  {
   "cell_type": "code",
   "execution_count": null,
   "metadata": {},
   "outputs": [],
   "source": []
  }
 ],
 "metadata": {
  "kernelspec": {
   "display_name": "Python 3",
   "language": "python",
   "name": "python3"
  },
  "language_info": {
   "codemirror_mode": {
    "name": "ipython",
    "version": 3
   },
   "file_extension": ".py",
   "mimetype": "text/x-python",
   "name": "python",
   "nbconvert_exporter": "python",
   "pygments_lexer": "ipython3",
   "version": "3.9.6"
  }
 },
 "nbformat": 4,
 "nbformat_minor": 2
}
