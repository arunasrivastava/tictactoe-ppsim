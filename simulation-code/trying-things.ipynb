{
 "cells": [
  {
   "cell_type": "code",
   "execution_count": 56,
   "metadata": {},
   "outputs": [],
   "source": [
    "from ppsim import species, Simulation, Specie\n",
    "from matplotlib import pyplot as plt"
   ]
  },
  {
   "cell_type": "code",
   "execution_count": 59,
   "metadata": {},
   "outputs": [],
   "source": [
    "# set up move marker (c, h) and waste molecule (w)\n",
    "c, h, w = species(\"c h w\")\n",
    "# blank squares\n",
    "b = species(\"b0 b1 b2\")\n",
    "# try squares (this computes probabilities)\n",
    "t = species(\"t0 t1 t2\")\n",
    "# filled squares\n",
    "x = species(\"x0 x1 x2\")\n",
    "# o = species(\"o0 o1 o2\")\n",
    "# track move that was made\n",
    "m = species(\"m0 m1 m2\")"
   ]
  },
  {
   "cell_type": "code",
   "execution_count": 60,
   "metadata": {},
   "outputs": [],
   "source": [
    "rules = []\n",
    "# set up rules\n",
    "for i in range(3):\n",
    "    # make_move: requires a blank square and the move marker -> fills square and records move\n",
    "    rules.append(t[i] + c >> x[i] + m[i])\n",
    "    # clean_up: move recorded -> decompose blank, generate human's turn\n",
    "    rules.append(m[i] + b[i] >> w + h)"
   ]
  },
  {
   "cell_type": "code",
   "execution_count": 84,
   "metadata": {},
   "outputs": [],
   "source": [
    "init_config = {}\n",
    "init_config[w] = 5 # surplus waste\n",
    "init_config[c] = 1 # crn's move\n",
    "init_config[h] = 0 # not human's move\n",
    "for i in range(3):\n",
    "    init_config[b[i]] = 1 # all squares set to blank\n",
    "    init_config[t[i]] = 0\n",
    "    init_config[x[i]] = 0\n",
    "    # init_config[o[i]] = 0\n",
    "    init_config[m[i]] = 0\n",
    "init_config[t[0]] = 1 # set probabilities\n",
    "init_config[t[1]] = 1 # set probabilities\n",
    "init_config[t[2]] = 2 # set probabilities"
   ]
  },
  {
   "cell_type": "code",
   "execution_count": 104,
   "metadata": {},
   "outputs": [
    {
     "name": "stderr",
     "output_type": "stream",
     "text": [
      "                                            "
     ]
    },
    {
     "name": "stdout",
     "output_type": "stream",
     "text": [
      "['_', '_', 'x']\n"
     ]
    },
    {
     "name": "stderr",
     "output_type": "stream",
     "text": [
      "\r"
     ]
    }
   ],
   "source": [
    "sim = Simulation(init_config, rules)\n",
    "sim.run()\n",
    "# only use selected columns of sim.history dataframe\n",
    "# sim.history.plot()\n",
    "# plt.title(\"play or don't play\")\n",
    "# plt.xlim(0, sim.times[-1])\n",
    "# plt.show()\n",
    "# print board state\n",
    "states = []\n",
    "for i in range(3):\n",
    "    if Specie(name=f'b{i}') in sim.config_dict.keys():\n",
    "        states.append('_')\n",
    "    elif Specie(name=f'x{i}') in sim.config_dict.keys():\n",
    "        states.append('x')\n",
    "print(states)"
   ]
  },
  {
   "cell_type": "code",
   "execution_count": null,
   "metadata": {},
   "outputs": [],
   "source": []
  }
 ],
 "metadata": {
  "kernelspec": {
   "display_name": "Python 3",
   "language": "python",
   "name": "python3"
  },
  "language_info": {
   "codemirror_mode": {
    "name": "ipython",
    "version": 3
   },
   "file_extension": ".py",
   "mimetype": "text/x-python",
   "name": "python",
   "nbconvert_exporter": "python",
   "pygments_lexer": "ipython3",
   "version": "3.9.6"
  }
 },
 "nbformat": 4,
 "nbformat_minor": 2
}
